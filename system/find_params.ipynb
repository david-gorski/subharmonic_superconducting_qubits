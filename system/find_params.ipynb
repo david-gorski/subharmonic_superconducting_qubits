{
 "cells": [
  {
   "cell_type": "code",
   "execution_count": 2,
   "source": [
    "import sys\n",
    "sys.path.append(\"..\")\n",
    "import importlib\n",
    "import numpy as np\n",
    "import scipy\n",
    "import matplotlib.pyplot as plt\n",
    "\n",
    "import system.experimental_september as system\n",
    "importlib.reload(system)\n",
    "import system.tunable_full_cosine as tunable_system\n",
    "importlib.reload(tunable_system)\n",
    "import utils.solver as solver\n",
    "importlib.reload(solver)\n",
    "import utils.expectation_values as expect\n",
    "importlib.reload(expect)\n",
    "\n",
    "pass"
   ],
   "outputs": [],
   "metadata": {}
  },
  {
   "cell_type": "code",
   "execution_count": 3,
   "source": [
    "E_j = system.E_j\n",
    "E_c = system.E_c\n",
    "# initial_guess from truncated power series reversal to full cosine\n",
    "\n",
    "tunable_system.setup(E_c, E_j)\n",
    "\n",
    "def energy_gap(level=0):\n",
    "    return tunable_system.energies[level+1] - tunable_system.energies[level+0]\n",
    "def anharmonicty():\n",
    "    return energy_gap(1) - energy_gap(0)\n",
    "\n",
    "def distance_to_experimental_data():\n",
    "    return np.abs(system.omega_0 - energy_gap()) + np.abs(system.anharm - anharmonicty())\n",
    "\n",
    "print(\"experimental data...\")\n",
    "print(system.omega_0)\n",
    "print(system.anharm)\n",
    "print()\n",
    "\n",
    "print(\"guess params... \")\n",
    "print(energy_gap())\n",
    "print(anharmonicty())\n",
    "\n",
    "print(\"distance_to_experimental_data\", distance_to_experimental_data())"
   ],
   "outputs": [
    {
     "output_type": "stream",
     "name": "stdout",
     "text": [
      "experimental data...\n",
      "24.951596996312357\n",
      "-1.3039494467989794\n",
      "\n",
      "guess params... \n",
      "24.600225881080686\n",
      "-3.591343091195199\n",
      "distance_to_experimental_data 2.6387647596278914\n"
     ]
    }
   ],
   "metadata": {}
  },
  {
   "cell_type": "code",
   "execution_count": 4,
   "source": [
    "def cost(parameters):\n",
    "    E_c = parameters[0]\n",
    "    E_j = parameters[1]\n",
    "    tunable_system.setup(E_c, E_j, _basis_size=_basis_size)\n",
    "    return distance_to_experimental_data()\n",
    "\n",
    "ree = scipy.optimize.minimize(cost, [E_c, E_j], method=\"Nelder-Mead\", options={\"disp\":True, \"maxiter\": 10000})"
   ],
   "outputs": [
    {
     "output_type": "stream",
     "name": "stdout",
     "text": [
      "Optimization terminated successfully.\n",
      "         Current function value: 0.000001\n",
      "         Iterations: 72\n",
      "         Function evaluations: 135\n"
     ]
    }
   ],
   "metadata": {}
  },
  {
   "cell_type": "code",
   "execution_count": 5,
   "source": [
    "tunable_system.setup(ree.x[0], ree.x[1])"
   ],
   "outputs": [],
   "metadata": {}
  },
  {
   "cell_type": "code",
   "execution_count": 6,
   "source": [
    "print(\"experimental data...\")\n",
    "print(system.omega_0)\n",
    "print(system.anharm)\n",
    "print()\n",
    "\n",
    "print(\"guess params... \")\n",
    "print(energy_gap())\n",
    "print(anharmonicty())\n",
    "\n",
    "print(\"distance_to_experimental_data\", distance_to_experimental_data())"
   ],
   "outputs": [
    {
     "output_type": "stream",
     "name": "stdout",
     "text": [
      "experimental data...\n",
      "24.951596996312357\n",
      "-1.3039494467989794\n",
      "\n",
      "guess params... \n",
      "24.951597002504336\n",
      "-1.303950226078328\n",
      "distance_to_experimental_data 7.854713270916136e-07\n"
     ]
    }
   ],
   "metadata": {}
  },
  {
   "cell_type": "code",
   "execution_count": 7,
   "source": [
    "print(\"optimized: \", ree.x)\n",
    "print(\"experimental data:\", [system.E_c, system.E_j])"
   ],
   "outputs": [
    {
     "output_type": "stream",
     "name": "stdout",
     "text": [
      "optimized:  [ 1.15849102 73.88873718]\n",
      "experimental data: [2.607898893597959, 36.40506422481128]\n"
     ]
    }
   ],
   "metadata": {}
  },
  {
   "cell_type": "code",
   "execution_count": null,
   "source": [],
   "outputs": [],
   "metadata": {}
  },
  {
   "cell_type": "markdown",
   "source": [
    "# Finding the right params for much higher basis size"
   ],
   "metadata": {}
  },
  {
   "cell_type": "code",
   "execution_count": 15,
   "source": [
    "tunable_system.setup(ree.x[0], ree.x[1], _basis_size=1000)\n",
    "ree = scipy.optimize.minimize(cost, [E_c, E_j], method=\"Nelder-Mead\", options={\"disp\":True, \"maxiter\": 10000})"
   ],
   "outputs": [
    {
     "output_type": "stream",
     "name": "stdout",
     "text": [
      "Optimization terminated successfully.\n",
      "         Current function value: 0.000001\n",
      "         Iterations: 72\n",
      "         Function evaluations: 135\n"
     ]
    }
   ],
   "metadata": {}
  },
  {
   "cell_type": "code",
   "execution_count": 16,
   "source": [
    "ree"
   ],
   "outputs": [
    {
     "output_type": "execute_result",
     "data": {
      "text/plain": [
       " final_simplex: (array([[ 1.15849102, 73.88873718],\n",
       "       [ 1.15848979, 73.88881041],\n",
       "       [ 1.15849072, 73.88874937]]), array([7.85471327e-07, 1.24868182e-06, 1.28651496e-06]))\n",
       "           fun: 7.854713270916136e-07\n",
       "       message: 'Optimization terminated successfully.'\n",
       "          nfev: 135\n",
       "           nit: 72\n",
       "        status: 0\n",
       "       success: True\n",
       "             x: array([ 1.15849102, 73.88873718])"
      ]
     },
     "metadata": {},
     "execution_count": 16
    }
   ],
   "metadata": {}
  },
  {
   "cell_type": "code",
   "execution_count": null,
   "source": [],
   "outputs": [],
   "metadata": {}
  }
 ],
 "metadata": {
  "orig_nbformat": 4,
  "language_info": {
   "name": "python",
   "version": "3.8.8",
   "mimetype": "text/x-python",
   "codemirror_mode": {
    "name": "ipython",
    "version": 3
   },
   "pygments_lexer": "ipython3",
   "nbconvert_exporter": "python",
   "file_extension": ".py"
  },
  "kernelspec": {
   "name": "python3",
   "display_name": "Python 3.8.8 64-bit ('base': virtualenv)"
  },
  "interpreter": {
   "hash": "737adab86a857289fc3bb162d0b4f640b26cc80f7c2ae1cce2eb6b9aa0f64168"
  }
 },
 "nbformat": 4,
 "nbformat_minor": 2
}