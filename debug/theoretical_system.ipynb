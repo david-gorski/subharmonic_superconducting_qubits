{
 "cells": [
  {
   "cell_type": "markdown",
   "source": [
    "Using the old model prior to meeting to verify the recreation of the results."
   ],
   "metadata": {}
  },
  {
   "cell_type": "code",
   "execution_count": 21,
   "source": [
    "import sys\n",
    "sys.path.append(\"..\")\n",
    "import importlib\n",
    "import numpy as np\n",
    "import matplotlib.pyplot as plt\n",
    "import qutip\n",
    "\n",
    "import system.theoretical as system\n",
    "importlib.reload(system)\n",
    "import utils.solver as solver\n",
    "importlib.reload(solver)\n",
    "import pulse.tukey as pulse_gen\n",
    "importlib.reload(pulse_gen)\n",
    "import utils.expectation_values as expect\n",
    "importlib.reload(expect)\n",
    "\n",
    "pass"
   ],
   "outputs": [],
   "metadata": {}
  },
  {
   "cell_type": "code",
   "execution_count": 33,
   "source": [
    "offset = 0.08\n",
    "tlist = np.linspace(0, 500, 2000)\n",
    "print(system.first_energy_spacing/3 - offset)\n",
    "pulse_gen.setup(amplitude=2.5, drive_frequency= system.first_energy_spacing/3 - offset, ramp_coef=0.9, tlist=tlist)\n",
    "plt.plot(tlist, pulse_gen.get_pulse(tlist))"
   ],
   "outputs": [
    {
     "output_type": "stream",
     "name": "stdout",
     "text": [
      "1.3699999999999999\n"
     ]
    },
    {
     "output_type": "display_data",
     "data": {
      "text/plain": [
       "Canvas(toolbar=Toolbar(toolitems=[('Home', 'Reset original view', 'home', 'home'), ('Back', 'Back to previous …"
      ],
      "application/vnd.jupyter.widget-view+json": {
       "version_major": 2,
       "version_minor": 0,
       "model_id": "97740898826e485593fa6d358963cc17"
      }
     },
     "metadata": {}
    },
    {
     "output_type": "execute_result",
     "data": {
      "text/plain": [
       "[<matplotlib.lines.Line2D at 0x7fa8b3e93d90>]"
      ]
     },
     "metadata": {},
     "execution_count": 33
    }
   ],
   "metadata": {}
  },
  {
   "cell_type": "code",
   "execution_count": 34,
   "source": [
    "tlist = np.linspace(0, 1000, 10000)\n",
    "solution = solver.time_evolve(H_d=system.H0, H_c=system.H1, pertubation_func=pulse_gen.pulse_func, tlist=tlist, starting_state=system.basis_states[0], pbar=True)"
   ],
   "outputs": [],
   "metadata": {}
  },
  {
   "cell_type": "code",
   "execution_count": 35,
   "source": [
    "expectation_values = expect.get_all_expectation_values(solution.states, system.basis_states)\n",
    "fig, ax = plt.subplots(figsize=(12, 5))\n",
    "for i in range(0, len(expectation_values)):\n",
    "    ax.plot(tlist, expectation_values[i], label=\"$\\psi_{%i}$\" % i)\n",
    "plt.legend()\n",
    "fig, ax = plt.subplots(figsize=(12, 5))\n",
    "ax.plot(tlist, pulse_gen.get_pulse(tlist))"
   ],
   "outputs": [
    {
     "output_type": "display_data",
     "data": {
      "text/plain": [
       "Canvas(toolbar=Toolbar(toolitems=[('Home', 'Reset original view', 'home', 'home'), ('Back', 'Back to previous …"
      ],
      "application/vnd.jupyter.widget-view+json": {
       "version_major": 2,
       "version_minor": 0,
       "model_id": "10a6e6a9c9c24eb284c6aa146bf4a41a"
      }
     },
     "metadata": {}
    },
    {
     "output_type": "display_data",
     "data": {
      "text/plain": [
       "Canvas(toolbar=Toolbar(toolitems=[('Home', 'Reset original view', 'home', 'home'), ('Back', 'Back to previous …"
      ],
      "application/vnd.jupyter.widget-view+json": {
       "version_major": 2,
       "version_minor": 0,
       "model_id": "33aa6f078bce4ce3b6c9f1287940ebec"
      }
     },
     "metadata": {}
    },
    {
     "output_type": "execute_result",
     "data": {
      "text/plain": [
       "[<matplotlib.lines.Line2D at 0x7fa896bc9c40>]"
      ]
     },
     "metadata": {},
     "execution_count": 35
    }
   ],
   "metadata": {}
  },
  {
   "cell_type": "code",
   "execution_count": 136,
   "source": [
    "expectation_values[1][-1]"
   ],
   "outputs": [
    {
     "output_type": "execute_result",
     "data": {
      "text/plain": [
       "0.013823563833130381"
      ]
     },
     "metadata": {},
     "execution_count": 136
    }
   ],
   "metadata": {}
  },
  {
   "cell_type": "code",
   "execution_count": 156,
   "source": [
    "all_results = []\n",
    "amp = 5.5\n",
    "for off in np.linspace(0.05, 0.1, 50):\n",
    "    print(off)\n",
    "    for dur in np.linspace(1, 300, 30):\n",
    "        tlist = np.linspace(0, dur, int(dur*10))\n",
    "        pulse_gen.setup(amplitude=amp, drive_frequency= system.first_energy_spacing/3 - off, ramp_coef=0.5, tlist=tlist)\n",
    "        solution = solver.time_evolve(H_d=system.H0, H_c=system.H1, pertubation_func=pulse_gen.pulse_func, tlist=tlist, starting_state=system.basis_states[0], pbar=False)\n",
    "        expectation_values = expect.get_all_expectation_values(solution.states, system.basis_states)\n",
    "        all_results.append({\n",
    "            \"fidelity\": expectation_values[1][-1],\n",
    "            \"offset\": off,\n",
    "            \"frequency\":  system.first_energy_spacing/3 - off,\n",
    "            \"duration\": dur,\n",
    "            \"amplitude\": amp\n",
    "        })"
   ],
   "outputs": [
    {
     "output_type": "stream",
     "name": "stdout",
     "text": [
      "0.05\n",
      "0.05102040816326531\n",
      "0.05204081632653061\n",
      "0.05306122448979592\n",
      "0.05408163265306123\n",
      "0.05510204081632653\n",
      "0.056122448979591844\n",
      "0.05714285714285715\n",
      "0.05816326530612245\n",
      "0.05918367346938776\n",
      "0.06020408163265306\n",
      "0.06122448979591837\n",
      "0.06224489795918368\n",
      "0.06326530612244899\n",
      "0.0642857142857143\n",
      "0.0653061224489796\n",
      "0.0663265306122449\n",
      "0.0673469387755102\n",
      "0.06836734693877551\n",
      "0.06938775510204082\n",
      "0.07040816326530613\n",
      "0.07142857142857142\n",
      "0.07244897959183674\n",
      "0.07346938775510205\n",
      "0.07448979591836735\n",
      "0.07551020408163266\n",
      "0.07653061224489796\n",
      "0.07755102040816328\n",
      "0.07857142857142857\n",
      "0.07959183673469389\n",
      "0.08061224489795919\n",
      "0.0816326530612245\n",
      "0.0826530612244898\n",
      "0.0836734693877551\n",
      "0.08469387755102041\n",
      "0.08571428571428572\n",
      "0.08673469387755103\n",
      "0.08775510204081632\n",
      "0.08877551020408164\n",
      "0.08979591836734695\n",
      "0.09081632653061225\n",
      "0.09183673469387756\n",
      "0.09285714285714286\n",
      "0.09387755102040818\n",
      "0.09489795918367347\n",
      "0.09591836734693879\n",
      "0.09693877551020409\n",
      "0.0979591836734694\n",
      "0.0989795918367347\n",
      "0.1\n"
     ]
    }
   ],
   "metadata": {}
  },
  {
   "cell_type": "code",
   "execution_count": 32,
   "source": [
    "# %matplotlib widget\n",
    "\n",
    "amps = []\n",
    "offs = []\n",
    "durs = []\n",
    "fids = []\n",
    "for result in all_results:\n",
    "    amps.append(result[\"amplitude\"])\n",
    "    offs.append(result[\"offset\"])\n",
    "    durs.append(result[\"duration\"])\n",
    "    fids.append(result[\"fidelity\"])\n",
    "\n",
    "fig, axs = plt.subplots(figsize=(12, 4))\n",
    "fig.suptitle(\"Fidelity Landscape at $V_0$ = %f \" % amps[-1], fontsize=18)\n",
    "axs.set_xlabel(\"Offset\")\n",
    "axs.set_ylabel(\"Duration (ns)\")\n",
    "surf = axs.scatter(offs, np.array(durs) / 10, c=fids, cmap=None, marker=\"s\", s=40)\n",
    "cbar = fig.colorbar(surf, shrink=0.5, aspect=10)\n",
    "cbar.ax.set_ylabel(\"fidelity\", rotation=270)\n",
    "cbar.ax.get_yaxis().labelpad = 15\n",
    "# axs.pcolormesh(offs, durs, fids)"
   ],
   "outputs": [
    {
     "output_type": "error",
     "ename": "NameError",
     "evalue": "name 'all_results' is not defined",
     "traceback": [
      "\u001b[0;31m---------------------------------------------------------------------------\u001b[0m",
      "\u001b[0;31mNameError\u001b[0m                                 Traceback (most recent call last)",
      "\u001b[0;32m/var/folders/8w/jht5wjcd4kl492xz8hs9lft40000gn/T/ipykernel_68225/4192011123.py\u001b[0m in \u001b[0;36m<module>\u001b[0;34m\u001b[0m\n\u001b[1;32m      5\u001b[0m \u001b[0mdurs\u001b[0m \u001b[0;34m=\u001b[0m \u001b[0;34m[\u001b[0m\u001b[0;34m]\u001b[0m\u001b[0;34m\u001b[0m\u001b[0;34m\u001b[0m\u001b[0m\n\u001b[1;32m      6\u001b[0m \u001b[0mfids\u001b[0m \u001b[0;34m=\u001b[0m \u001b[0;34m[\u001b[0m\u001b[0;34m]\u001b[0m\u001b[0;34m\u001b[0m\u001b[0;34m\u001b[0m\u001b[0m\n\u001b[0;32m----> 7\u001b[0;31m \u001b[0;32mfor\u001b[0m \u001b[0mresult\u001b[0m \u001b[0;32min\u001b[0m \u001b[0mall_results\u001b[0m\u001b[0;34m:\u001b[0m\u001b[0;34m\u001b[0m\u001b[0;34m\u001b[0m\u001b[0m\n\u001b[0m\u001b[1;32m      8\u001b[0m     \u001b[0mamps\u001b[0m\u001b[0;34m.\u001b[0m\u001b[0mappend\u001b[0m\u001b[0;34m(\u001b[0m\u001b[0mresult\u001b[0m\u001b[0;34m[\u001b[0m\u001b[0;34m\"amplitude\"\u001b[0m\u001b[0;34m]\u001b[0m\u001b[0;34m)\u001b[0m\u001b[0;34m\u001b[0m\u001b[0;34m\u001b[0m\u001b[0m\n\u001b[1;32m      9\u001b[0m     \u001b[0moffs\u001b[0m\u001b[0;34m.\u001b[0m\u001b[0mappend\u001b[0m\u001b[0;34m(\u001b[0m\u001b[0mresult\u001b[0m\u001b[0;34m[\u001b[0m\u001b[0;34m\"offset\"\u001b[0m\u001b[0;34m]\u001b[0m\u001b[0;34m)\u001b[0m\u001b[0;34m\u001b[0m\u001b[0;34m\u001b[0m\u001b[0m\n",
      "\u001b[0;31mNameError\u001b[0m: name 'all_results' is not defined"
     ]
    }
   ],
   "metadata": {}
  },
  {
   "cell_type": "code",
   "execution_count": null,
   "source": [],
   "outputs": [],
   "metadata": {}
  }
 ],
 "metadata": {
  "orig_nbformat": 4,
  "language_info": {
   "name": "python",
   "version": "3.8.8",
   "mimetype": "text/x-python",
   "codemirror_mode": {
    "name": "ipython",
    "version": 3
   },
   "pygments_lexer": "ipython3",
   "nbconvert_exporter": "python",
   "file_extension": ".py"
  },
  "kernelspec": {
   "name": "python3",
   "display_name": "Python 3.8.8 64-bit ('base': conda)"
  },
  "interpreter": {
   "hash": "737adab86a857289fc3bb162d0b4f640b26cc80f7c2ae1cce2eb6b9aa0f64168"
  }
 },
 "nbformat": 4,
 "nbformat_minor": 2
}