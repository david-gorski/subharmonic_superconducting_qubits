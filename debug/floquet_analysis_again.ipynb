{
 "cells": [
  {
   "cell_type": "code",
   "execution_count": 153,
   "metadata": {},
   "outputs": [],
   "source": [
    "import sys\n",
    "sys.path.append(\"..\")\n",
    "import importlib\n",
    "import numpy as np\n",
    "import scipy as sp\n",
    "import matplotlib.pyplot as plt\n",
    "import qutip\n",
    "\n",
    "import system.from_higher_basis_truncation_tunable_full_cosine as system\n",
    "importlib.reload(system)\n",
    "import utils.solver as solver\n",
    "importlib.reload(solver)\n",
    "import pulse.tukey as tukey\n",
    "importlib.reload(tukey)\n",
    "import pulse.tukey_derivative as tukey_derivative\n",
    "importlib.reload(tukey_derivative)\n",
    "import utils.expectation_values as expect\n",
    "importlib.reload(expect)\n",
    "import optimization.grape as grape\n",
    "importlib.reload(grape)\n",
    "import utils.graph as graph\n",
    "importlib.reload(graph)\n",
    "\n",
    "pass"
   ]
  },
  {
   "cell_type": "code",
   "execution_count": 154,
   "metadata": {},
   "outputs": [],
   "source": [
    "amp = 11\n",
    "freq = system.first_energy_spacing/3 - 0.05\n",
    "period = (2*np.pi) / freq\n",
    "def steady(t, args):\n",
    "    return amp * np.cos(t * freq)\n",
    "\n",
    "H = [system.H0, [system.H1, steady]]"
   ]
  },
  {
   "cell_type": "code",
   "execution_count": 155,
   "metadata": {},
   "outputs": [],
   "source": [
    "U = qutip.propagator(H, period, c_op_list=[], options=qutip.Options(nsteps=10000))"
   ]
  },
  {
   "cell_type": "code",
   "execution_count": 156,
   "metadata": {},
   "outputs": [],
   "source": [
    "# find the eigenstates for the propagator\n",
    "evals, evecs = np.linalg.eig(U.full())\n",
    "\n",
    "eargs = np.angle(evals)\n",
    "\n",
    "# # make sure that the phase is in the interval [-pi, pi], so that\n",
    "# # the quasi energy is in the interval [-pi/T, pi/T] where T is the\n",
    "# # period of the driving.  eargs += (eargs <= -2*pi) * (2*pi) +\n",
    "# # (eargs > 0) * (-2*pi)\n",
    "# eargs += (eargs <= -np.pi) * (2 * np.pi) + (eargs > np.pi) * (-2 * np.pi)\n",
    "\n",
    "e_quasi = -eargs / period"
   ]
  },
  {
   "cell_type": "code",
   "execution_count": 157,
   "metadata": {},
   "outputs": [
    {
     "data": {
      "text/plain": [
       "array([-2.41468126, -0.89266342, -0.96406534,  0.77242803,  1.47630724,\n",
       "        2.13989214,  3.75094564,  3.93968066,  2.50584927,  3.19204755])"
      ]
     },
     "execution_count": 157,
     "metadata": {},
     "output_type": "execute_result"
    }
   ],
   "source": [
    "e_quasi"
   ]
  },
  {
   "cell_type": "code",
   "execution_count": 158,
   "metadata": {},
   "outputs": [
    {
     "data": {
      "text/plain": [
       "array([-2.41468126, -0.96406534, -0.89266342,  0.77242803,  1.47630724,\n",
       "        2.13989214,  2.50584927,  3.19204755,  3.75094564,  3.93968066])"
      ]
     },
     "execution_count": 158,
     "metadata": {},
     "output_type": "execute_result"
    }
   ],
   "source": [
    "f_modes_0, f_energies = qutip.floquet.floquet_modes(H, period)\n",
    "np.sort(f_energies)"
   ]
  },
  {
   "cell_type": "code",
   "execution_count": 159,
   "metadata": {},
   "outputs": [
    {
     "data": {
      "text/plain": [
       "array([-4.09904111, -3.62710433, -3.23037919, -3.08037919, -2.62518782,\n",
       "       -1.86884185, -0.03830512,  1.44191814,  1.79882401,  4.03260013])"
      ]
     },
     "execution_count": 159,
     "metadata": {},
     "output_type": "execute_result"
    }
   ],
   "source": [
    "e_Args = system.H0.eigenenergies() % freq\n",
    "e_Args += (e_Args <= -freq/2) * (freq) - (e_Args > freq/2) * (freq)\n",
    "np.sort(e_Args)"
   ]
  },
  {
   "cell_type": "code",
   "execution_count": 160,
   "metadata": {},
   "outputs": [
    {
     "data": {
      "text/latex": [
       "Quantum object: dims = [[10], [1]], shape = (10, 1), type = ket\\begin{equation*}\\left(\\begin{array}{*{11}c}0.0\\\\-0.999\\\\0.0\\\\-0.049\\\\0.0\\\\-0.015\\\\0.0\\\\-0.002\\\\0.0\\\\-6.360\\times10^{-04}\\\\\\end{array}\\right)\\end{equation*}"
      ],
      "text/plain": [
       "Quantum object: dims = [[10], [1]], shape = (10, 1), type = ket\n",
       "Qobj data =\n",
       "[[ 0.00000000e+00]\n",
       " [-9.98670775e-01]\n",
       " [ 0.00000000e+00]\n",
       " [-4.93950634e-02]\n",
       " [ 0.00000000e+00]\n",
       " [-1.45336988e-02]\n",
       " [ 0.00000000e+00]\n",
       " [-2.27547452e-03]\n",
       " [ 0.00000000e+00]\n",
       " [-6.35988785e-04]]"
      ]
     },
     "execution_count": 160,
     "metadata": {},
     "output_type": "execute_result"
    }
   ],
   "source": [
    "system.basis_states[1]"
   ]
  },
  {
   "cell_type": "code",
   "execution_count": 163,
   "metadata": {},
   "outputs": [
    {
     "data": {
      "text/latex": [
       "Quantum object: dims = [[10], [1]], shape = (10, 1), type = ket\\begin{equation*}\\left(\\begin{array}{*{11}c}(0.153+2.915\\times10^{-07}j)\\\\0.550\\\\(0.265-5.776\\times10^{-06}j)\\\\(-0.512-1.030\\times10^{-05}j)\\\\(0.430+4.961\\times10^{-06}j)\\\\(-0.297+6.353\\times10^{-06}j)\\\\(0.200-1.034\\times10^{-05}j)\\\\(-0.135-5.262\\times10^{-06}j)\\\\(0.083+7.445\\times10^{-06}j)\\\\(-0.048-7.621\\times10^{-06}j)\\\\\\end{array}\\right)\\end{equation*}"
      ],
      "text/plain": [
       "Quantum object: dims = [[10], [1]], shape = (10, 1), type = ket\n",
       "Qobj data =\n",
       "[[ 0.15310235+2.91465120e-07j]\n",
       " [ 0.55039791+0.00000000e+00j]\n",
       " [ 0.26471102-5.77561402e-06j]\n",
       " [-0.51249975-1.02987869e-05j]\n",
       " [ 0.43028749+4.96116379e-06j]\n",
       " [-0.29682755+6.35328737e-06j]\n",
       " [ 0.20044584-1.03391660e-05j]\n",
       " [-0.13497806-5.26181235e-06j]\n",
       " [ 0.08348821+7.44493383e-06j]\n",
       " [-0.04766637-7.62057532e-06j]]"
      ]
     },
     "execution_count": 163,
     "metadata": {},
     "output_type": "execute_result"
    }
   ],
   "source": [
    "f_modes_0[1]"
   ]
  },
  {
   "cell_type": "code",
   "execution_count": 136,
   "metadata": {},
   "outputs": [],
   "source": [
    "t = 0.0001 # ns\n",
    "f_modes_t = qutip.floquet.floquet_modes_t(f_modes_0, f_energies, t, H, period, args=None)\n",
    "#(f_modes_t[0] - f_modes_0[0])"
   ]
  },
  {
   "cell_type": "code",
   "execution_count": 137,
   "metadata": {},
   "outputs": [
    {
     "data": {
      "text/plain": [
       "<matplotlib.legend.Legend at 0x7fe4d9a6b0a0>"
      ]
     },
     "execution_count": 137,
     "metadata": {},
     "output_type": "execute_result"
    },
    {
     "data": {
      "image/png": "[encoded data removed]",
      "text/plain": [
       "<Figure size 432x288 with 1 Axes>"
      ]
     },
     "metadata": {
      "needs_background": "light"
     },
     "output_type": "display_data"
    }
   ],
   "source": [
    "pops0 = []\n",
    "pops1 = []\n",
    "pops2 = []\n",
    "pops = []\n",
    "tlist = np.linspace(0, period*3, 50)\n",
    "for t in tlist:\n",
    "    f_modes_t = qutip.floquet.floquet_modes_t(f_modes_0, f_energies, t, H, period, args=None)\n",
    "    pops0.append(expect.expectation_value(f_modes_0[0], f_modes_t[0]))\n",
    "    pops1.append(expect.expectation_value(f_modes_0[1], f_modes_t[1]))\n",
    "    pops2.append(expect.expectation_value(f_modes_0[2], f_modes_t[2]))\n",
    "\n",
    "plt.plot(tlist, pops0, label=\"mode 0\")\n",
    "plt.plot(tlist, pops1, label=\"mode 1\")\n",
    "plt.plot(tlist, pops2, label=\"mode 2\")\n",
    "plt.xlabel(\"time ns\")\n",
    "plt.ylabel(\"f_mode change from inital\")\n",
    "plt.legend()"
   ]
  },
  {
   "cell_type": "code",
   "execution_count": 138,
   "metadata": {},
   "outputs": [
    {
     "data": {
      "text/plain": [
       "8.267223706634018"
      ]
     },
     "execution_count": 138,
     "metadata": {},
     "output_type": "execute_result"
    }
   ],
   "source": [
    "freq"
   ]
  },
  {
   "cell_type": "code",
   "execution_count": null,
   "metadata": {},
   "outputs": [],
   "source": []
  }
 ],
 "metadata": {
  "interpreter": {
   "hash": "737adab86a857289fc3bb162d0b4f640b26cc80f7c2ae1cce2eb6b9aa0f64168"
  },
  "kernelspec": {
   "display_name": "Python 3.8.8 64-bit ('base': conda)",
   "name": "python3"
  },
  "language_info": {
   "codemirror_mode": {
    "name": "ipython",
    "version": 3
   },
   "file_extension": ".py",
   "mimetype": "text/x-python",
   "name": "python",
   "nbconvert_exporter": "python",
   "pygments_lexer": "ipython3",
   "version": "3.8.8"
  },
  "orig_nbformat": 4
 },
 "nbformat": 4,
 "nbformat_minor": 2
}
